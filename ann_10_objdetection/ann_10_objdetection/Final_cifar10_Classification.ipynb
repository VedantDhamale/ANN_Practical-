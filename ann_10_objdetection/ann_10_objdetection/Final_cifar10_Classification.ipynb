{
 "cells": [
  {
   "cell_type": "code",
   "execution_count": 62,
   "metadata": {},
   "outputs": [],
   "source": [
    "import numpy as np\n",
    "import tensorflow as tf\n",
    "from tensorflow.keras import datasets, layers, models\n",
    "import matplotlib.pyplot as plt"
   ]
  },
  {
   "cell_type": "code",
   "execution_count": 63,
   "metadata": {},
   "outputs": [
    {
     "data": {
      "text/plain": [
       "(50000, 32, 32, 3)"
      ]
     },
     "execution_count": 63,
     "metadata": {},
     "output_type": "execute_result"
    }
   ],
   "source": [
    "(X_train, y_train), (X_test,y_test) = datasets.cifar10.load_data()\n",
    "X_train.shape"
   ]
  },
  {
   "cell_type": "code",
   "execution_count": 64,
   "metadata": {},
   "outputs": [
    {
     "data": {
      "text/plain": [
       "(10000, 32, 32, 3)"
      ]
     },
     "execution_count": 64,
     "metadata": {},
     "output_type": "execute_result"
    }
   ],
   "source": [
    "X_test.shape"
   ]
  },
  {
   "cell_type": "code",
   "execution_count": 65,
   "metadata": {},
   "outputs": [
    {
     "data": {
      "text/plain": [
       "(50000, 1)"
      ]
     },
     "execution_count": 65,
     "metadata": {},
     "output_type": "execute_result"
    }
   ],
   "source": [
    "y_train.shape"
   ]
  },
  {
   "cell_type": "code",
   "execution_count": 66,
   "metadata": {},
   "outputs": [
    {
     "data": {
      "text/plain": [
       "array([[6],\n",
       "       [9],\n",
       "       [9],\n",
       "       [4],\n",
       "       [1]], dtype=uint8)"
      ]
     },
     "execution_count": 66,
     "metadata": {},
     "output_type": "execute_result"
    }
   ],
   "source": [
    "y_train[:5]"
   ]
  },
  {
   "cell_type": "code",
   "execution_count": 67,
   "metadata": {},
   "outputs": [
    {
     "data": {
      "text/plain": [
       "array([6, 9, 9, 4, 1], dtype=uint8)"
      ]
     },
     "execution_count": 67,
     "metadata": {},
     "output_type": "execute_result"
    }
   ],
   "source": [
    "y_train = y_train.reshape(-1,)\n",
    "y_train[:5]"
   ]
  },
  {
   "cell_type": "code",
   "execution_count": 68,
   "metadata": {},
   "outputs": [],
   "source": [
    "y_test = y_test.reshape(-1,)"
   ]
  },
  {
   "cell_type": "code",
   "execution_count": 69,
   "metadata": {},
   "outputs": [],
   "source": [
    "classes = [\"airplane\",\"automobile\",\"bird\",\"cat\",\"deer\",\"dog\",\"frog\",\"horse\",\"ship\",\"truck\"]"
   ]
  },
  {
   "cell_type": "code",
   "execution_count": 70,
   "metadata": {},
   "outputs": [],
   "source": [
    "def plot_sample(X, y, index):\n",
    "    plt.figure(figsize = (15,2))\n",
    "    plt.imshow(X[index])\n",
    "    plt.xlabel(classes[y[index]])"
   ]
  },
  {
   "cell_type": "code",
   "execution_count": 71,
   "metadata": {},
   "outputs": [
    {
     "data": {
      "image/png": "[encoded data removed]",
      "text/plain": [
       "<Figure size 1500x200 with 1 Axes>"
      ]
     },
     "metadata": {},
     "output_type": "display_data"
    }
   ],
   "source": [
    "plot_sample(X_train, y_train, 5)"
   ]
  },
  {
   "cell_type": "code",
   "execution_count": 72,
   "metadata": {},
   "outputs": [],
   "source": [
    "X_train=X_train/255.0\n",
    "X_test=X_test/255.0"
   ]
  },
  {
   "cell_type": "code",
   "execution_count": 73,
   "metadata": {},
   "outputs": [],
   "source": [
    "cnn = models.Sequential([\n",
    "    layers.Conv2D(filters=128, kernel_size=(3, 3), activation='relu', input_shape=(32, 32,3)),\n",
    "    layers.MaxPooling2D((3, 3)),\n",
    "    \n",
    "    layers.Conv2D(filters=128, kernel_size=(3, 3), activation='relu'),\n",
    "    layers.MaxPooling2D((3, 3)),\n",
    "    \n",
    "    layers.Flatten(),\n",
    "    layers.Dense(128, activation='relu'),\n",
    "    layers.Dense(10, activation='softmax')\n",
    "])"
   ]
  },
  {
   "cell_type": "code",
   "execution_count": 74,
   "metadata": {},
   "outputs": [],
   "source": [
    "cnn.compile(optimizer='rmsprop',loss='sparse_categorical_crossentropy',metrics=['accuracy'])"
   ]
  },
  {
   "cell_type": "code",
   "execution_count": 75,
   "metadata": {},
   "outputs": [
    {
     "name": "stdout",
     "output_type": "stream",
     "text": [
      "Epoch 1/5\n",
      "1563/1563 [==============================] - 19s 12ms/step - loss: 1.5739 - accuracy: 0.4340 - val_loss: 1.3115 - val_accuracy: 0.5346\n",
      "Epoch 2/5\n",
      "1563/1563 [==============================] - 18s 11ms/step - loss: 1.1997 - accuracy: 0.5800 - val_loss: 1.1618 - val_accuracy: 0.5935\n",
      "Epoch 3/5\n",
      "1563/1563 [==============================] - 17s 11ms/step - loss: 1.0519 - accuracy: 0.6367 - val_loss: 1.2613 - val_accuracy: 0.5720\n",
      "Epoch 4/5\n",
      "1563/1563 [==============================] - 18s 11ms/step - loss: 0.9528 - accuracy: 0.6686 - val_loss: 1.0810 - val_accuracy: 0.6247\n",
      "Epoch 5/5\n",
      "1563/1563 [==============================] - 17s 11ms/step - loss: 0.8791 - accuracy: 0.6946 - val_loss: 1.1622 - val_accuracy: 0.6219\n"
     ]
    }
   ],
   "source": [
    "measures=cnn.fit(X_train, y_train, epochs=5,validation_data=(X_test,y_test))"
   ]
  },
  {
   "cell_type": "code",
   "execution_count": 76,
   "metadata": {},
   "outputs": [
    {
     "name": "stdout",
     "output_type": "stream",
     "text": [
      "313/313 [==============================] - 1s 4ms/step - loss: 1.1622 - accuracy: 0.6219\n"
     ]
    },
    {
     "data": {
      "text/plain": [
       "[1.1621510982513428, 0.6219000220298767]"
      ]
     },
     "execution_count": 76,
     "metadata": {},
     "output_type": "execute_result"
    }
   ],
   "source": [
    "cnn.evaluate(X_test,y_test)"
   ]
  },
  {
   "cell_type": "code",
   "execution_count": 77,
   "metadata": {},
   "outputs": [
    {
     "name": "stdout",
     "output_type": "stream",
     "text": [
      "1563/1563 [==============================] - 7s 4ms/step\n",
      "Classification Report of Training: \n",
      "               precision    recall  f1-score   support\n",
      "\n",
      "           0       0.82      0.51      0.63      5000\n",
      "           1       0.69      0.87      0.77      5000\n",
      "           2       0.89      0.27      0.41      5000\n",
      "           3       0.51      0.62      0.56      5000\n",
      "           4       0.60      0.72      0.66      5000\n",
      "           5       0.82      0.44      0.57      5000\n",
      "           6       0.83      0.69      0.76      5000\n",
      "           7       0.74      0.76      0.75      5000\n",
      "           8       0.51      0.93      0.66      5000\n",
      "           9       0.68      0.78      0.72      5000\n",
      "\n",
      "    accuracy                           0.66     50000\n",
      "   macro avg       0.71      0.66      0.65     50000\n",
      "weighted avg       0.71      0.66      0.65     50000\n",
      "\n"
     ]
    }
   ],
   "source": [
    "from sklearn.metrics import confusion_matrix , classification_report\n",
    "\n",
    "y_pred = cnn.predict(X_train)\n",
    "y_pred_classes = [np.argmax(element) for element in y_pred]\n",
    "\n",
    "print(\"Classification Report of Training: \\n\", classification_report(y_train, y_pred_classes))"
   ]
  },
  {
   "cell_type": "code",
   "execution_count": 78,
   "metadata": {},
   "outputs": [
    {
     "name": "stdout",
     "output_type": "stream",
     "text": [
      "313/313 [==============================] - 2s 5ms/step\n",
      "Classification Report of Testing: \n",
      "               precision    recall  f1-score   support\n",
      "\n",
      "           0       0.80      0.49      0.61      1000\n",
      "           1       0.67      0.84      0.74      1000\n",
      "           2       0.85      0.25      0.38      1000\n",
      "           3       0.46      0.55      0.50      1000\n",
      "           4       0.57      0.69      0.62      1000\n",
      "           5       0.73      0.41      0.53      1000\n",
      "           6       0.80      0.65      0.72      1000\n",
      "           7       0.69      0.70      0.69      1000\n",
      "           8       0.49      0.91      0.63      1000\n",
      "           9       0.63      0.73      0.68      1000\n",
      "\n",
      "    accuracy                           0.62     10000\n",
      "   macro avg       0.67      0.62      0.61     10000\n",
      "weighted avg       0.67      0.62      0.61     10000\n",
      "\n"
     ]
    }
   ],
   "source": [
    "y_pred = cnn.predict(X_test)\n",
    "y_pred_classes = [np.argmax(element) for element in y_pred]\n",
    "\n",
    "print(\"Classification Report of Testing: \\n\", classification_report(y_test, y_pred_classes))"
   ]
  },
  {
   "cell_type": "code",
   "execution_count": 79,
   "metadata": {},
   "outputs": [
    {
     "data": {
      "text/plain": [
       "array([[1.44729847e-02, 1.18355714e-01, 1.52112450e-03, 1.71044588e-01,\n",
       "        1.01232762e-03, 5.64466557e-03, 1.19141685e-02, 4.12969012e-03,\n",
       "        6.22264862e-01, 4.96398658e-02],\n",
       "       [5.70063596e-04, 1.29521549e-01, 5.71271137e-08, 1.68806153e-07,\n",
       "        7.12365633e-09, 7.15984605e-10, 1.57687141e-09, 1.48483341e-08,\n",
       "        8.60865176e-01, 9.04284697e-03],\n",
       "       [1.48916561e-02, 2.30922222e-01, 6.88608343e-05, 1.74247456e-04,\n",
       "        5.06445613e-05, 6.42991563e-06, 8.80472726e-06, 3.32416239e-05,\n",
       "        4.79664683e-01, 2.74179310e-01],\n",
       "       [1.11990586e-01, 1.54652037e-02, 4.98857349e-04, 2.69789336e-04,\n",
       "        1.28307001e-04, 5.32174909e-06, 4.14319329e-05, 5.53727805e-05,\n",
       "        8.65572035e-01, 5.97316958e-03]], dtype=float32)"
      ]
     },
     "execution_count": 79,
     "metadata": {},
     "output_type": "execute_result"
    }
   ],
   "source": [
    "y_pred[:4]"
   ]
  },
  {
   "cell_type": "code",
   "execution_count": 88,
   "metadata": {},
   "outputs": [
    {
     "data": {
      "text/plain": [
       "[8, 8, 8, 8]"
      ]
     },
     "execution_count": 88,
     "metadata": {},
     "output_type": "execute_result"
    }
   ],
   "source": [
    "y_pred_classes[:4]"
   ]
  },
  {
   "cell_type": "code",
   "execution_count": 89,
   "metadata": {},
   "outputs": [
    {
     "data": {
      "text/plain": [
       "array([3, 8, 8, 0], dtype=uint8)"
      ]
     },
     "execution_count": 89,
     "metadata": {},
     "output_type": "execute_result"
    }
   ],
   "source": [
    "y_test[:4]"
   ]
  },
  {
   "cell_type": "code",
   "execution_count": 82,
   "metadata": {},
   "outputs": [
    {
     "data": {
      "image/png": "[encoded data removed]",
      "text/plain": [
       "<Figure size 1500x200 with 1 Axes>"
      ]
     },
     "metadata": {},
     "output_type": "display_data"
    }
   ],
   "source": [
    "plot_sample(X_test, y_test,11)"
   ]
  },
  {
   "cell_type": "code",
   "execution_count": 83,
   "metadata": {},
   "outputs": [
    {
     "data": {
      "text/plain": [
       "'truck'"
      ]
     },
     "execution_count": 83,
     "metadata": {},
     "output_type": "execute_result"
    }
   ],
   "source": [
    "classes[y_pred_classes[11]]"
   ]
  },
  {
   "cell_type": "code",
   "execution_count": 84,
   "metadata": {},
   "outputs": [
    {
     "name": "stderr",
     "output_type": "stream",
     "text": [
      "d:\\New folder\\envs\\ds_env\\Lib\\site-packages\\keras\\src\\engine\\training.py:3103: UserWarning: You are saving your model as an HDF5 file via `model.save()`. This file format is considered legacy. We recommend using instead the native Keras format, e.g. `model.save('my_model.keras')`.\n",
      "  saving_api.save_model(\n"
     ]
    }
   ],
   "source": [
    "cnn.save(\"newmodel.h5\")"
   ]
  },
  {
   "cell_type": "code",
   "execution_count": 85,
   "metadata": {},
   "outputs": [
    {
     "name": "stdout",
     "output_type": "stream",
     "text": [
      "1/1 [==============================] - 0s 64ms/step\n",
      "[[1.0831574e-03 6.3583175e-06 5.3892229e-03 9.4089621e-01 1.5624972e-02\n",
      "  1.9960394e-02 4.1933553e-03 1.2746080e-02 7.8459481e-05 2.1835045e-05]]\n",
      "Predicted class: 3 cat\n"
     ]
    }
   ],
   "source": [
    "import tensorflow as tf\n",
    "from PIL import Image\n",
    "import numpy as np\n",
    "\n",
    "model = tf.keras.models.load_model('./newmodel.h5')\n",
    "\n",
    "image_path = './c1.jpeg'\n",
    "image = Image.open(image_path)\n",
    "image = image.resize((32, 32))  \n",
    "image = np.array(image) / 255.0  \n",
    "image = np.expand_dims(image, axis=0)  \n",
    "\n",
    "predictions = model.predict(image)\n",
    "print(predictions)\n",
    "predicted_class = np.argmax(predictions)\n",
    "print(\"Predicted class:\", predicted_class,classes[predicted_class])\n",
    "\n"
   ]
  },
  {
   "cell_type": "code",
   "execution_count": 86,
   "metadata": {},
   "outputs": [
    {
     "data": {
      "text/plain": [
       "<matplotlib.legend.Legend at 0x1511f4e2d10>"
      ]
     },
     "execution_count": 86,
     "metadata": {},
     "output_type": "execute_result"
    },
    {
     "data": {
      "image/png": "[encoded data removed]",
      "text/plain": [
       "<Figure size 640x480 with 1 Axes>"
      ]
     },
     "metadata": {},
     "output_type": "display_data"
    }
   ],
   "source": [
    "plt.plot(measures.history['loss'],label=\"Training loss\")\n",
    "plt.plot(measures.history['val_loss'],label=\"Validation loss\")\n",
    "plt.xlabel(\"Epochs\")\n",
    "plt.ylabel(\"Loss\")\n",
    "plt.legend()"
   ]
  },
  {
   "cell_type": "code",
   "execution_count": 87,
   "metadata": {},
   "outputs": [
    {
     "data": {
      "text/plain": [
       "<matplotlib.legend.Legend at 0x1511cd89ed0>"
      ]
     },
     "execution_count": 87,
     "metadata": {},
     "output_type": "execute_result"
    },
    {
     "data": {
      "image/png": "[encoded data removed]",
      "text/plain": [
       "<Figure size 640x480 with 1 Axes>"
      ]
     },
     "metadata": {},
     "output_type": "display_data"
    }
   ],
   "source": [
    "plt.plot(measures.history['accuracy'],label='Training Accuracy')\n",
    "plt.plot(measures.history['val_accuracy'],label='Validation Accuracy')\n",
    "plt.xlabel(\"Epochs\")\n",
    "plt.ylabel(\"Loss\")\n",
    "plt.legend()"
   ]
  },
  {
   "cell_type": "code",
   "execution_count": null,
   "metadata": {},
   "outputs": [],
   "source": []
  }
 ],
 "metadata": {
  "kernelspec": {
   "display_name": "Python 3 (ipykernel)",
   "language": "python",
   "name": "python3"
  },
  "language_info": {
   "codemirror_mode": {
    "name": "ipython",
    "version": 3
   },
   "file_extension": ".py",
   "mimetype": "text/x-python",
   "name": "python",
   "nbconvert_exporter": "python",
   "pygments_lexer": "ipython3",
   "version": "3.11.8"
  }
 },
 "nbformat": 4,
 "nbformat_minor": 4
}
