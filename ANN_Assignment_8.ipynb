{
  "cells": [
    {
      "cell_type": "code",
      "execution_count": 1,
      "id": "676f4ea7-ee37-43d4-af12-b8189f9a408c",
      "metadata": {
        "id": "676f4ea7-ee37-43d4-af12-b8189f9a408c"
      },
      "outputs": [],
      "source": [
        "import numpy as np\n",
        "\n",
        "class ANN:\n",
        "    def __init__(self,input_size,hidden_layers,hidden_neurons,output_size,learning_rate):\n",
        "        self.weights=[]\n",
        "        self.bias=[]\n",
        "        self.hidden_layers=hidden_layers\n",
        "        self.learning_rate=learning_rate;\n",
        "\n",
        "        for i in range(hidden_layers+1):\n",
        "            if i==0:\n",
        "                self.weights.append(np.random.randn(hidden_neurons,input_size))\n",
        "                self.bias.append(np.full((hidden_neurons,1),1))\n",
        "            elif i==hidden_layers:\n",
        "                self.weights.append(np.random.randn(output_size,hidden_neurons))\n",
        "                self.bias.append(np.full((output_size,1),1))\n",
        "            else:\n",
        "                self.weights.append(np.random.randn(hidden_neurons,hidden_neurons))\n",
        "                self.bias.append(np.full((hidden_neurons,1),1))\n",
        "\n",
        "    def sigmoid(self, x):\n",
        "        return 1 / (1 + np.exp(-x))\n",
        "\n",
        "    def first_order_sigmoid(self, x):\n",
        "        return self.sigmoid(x) * (1 - self.sigmoid(x))\n",
        "\n",
        "    def forward(self,x):\n",
        "        activations=[]\n",
        "        activations.append(x)\n",
        "        for i in range(self.hidden_layers+1):\n",
        "            x=np.dot(self.weights[i],activations[i])+self.bias[i]\n",
        "            activations.append(self.sigmoid(x))\n",
        "        return activations\n",
        "\n",
        "    def backward(self,activations,di,m):\n",
        "        delta=(activations[-1]-di.T) * self.first_order_sigmoid(np.dot(self.weights[-1],activations[-2])+self.bias[-1])\n",
        "        for i in range(self.hidden_layers,-1,-1):\n",
        "            if i==self.hidden_layers:\n",
        "                prev=np.array(self.weights[i])\n",
        "                self.weights[i]=self.weights[i]-(self.learning_rate/m) * np.dot(delta,activations[i].T)\n",
        "                self.bias[i]=self.bias[i]-(self.learning_rate/m) * np.sum(delta,axis=1,keepdims=True)\n",
        "            else:\n",
        "                delta=np.dot(prev.T, delta) * self.first_order_sigmoid(np.dot(self.weights[i], activations[i])+self.bias[i])\n",
        "                prev=np.array(self.weights[i])\n",
        "                self.weights[i]=self.weights[i]-(self.learning_rate/m) * np.dot(delta,activations[i].T)\n",
        "                self.bias[i]=self.bias[i]-(self.learning_rate/m) * np.sum(delta,axis=1,keepdims=True)\n",
        "\n",
        "    def train(self,x,y,epochs):\n",
        "        for i in range(epochs):\n",
        "            activations=self.forward(x)\n",
        "            m=x.shape[1]\n",
        "            self.backward(activations,y,m)\n",
        "            if(i%1000==0):\n",
        "                print(\"Error at %d epoch : \"%(i),np.sum(activations[-1]-y.T))\n",
        "\n",
        "    def predict(self,x):\n",
        "        predictions=[]\n",
        "        for input in x:\n",
        "            prediction = self.forward(np.array(input))\n",
        "            predictions.append(prediction[-1])\n",
        "        return predictions\n"
      ]
    },
    {
      "cell_type": "code",
      "execution_count": 2,
      "id": "f93d18a6-7500-4d2b-8f77-6b80dccede2e",
      "metadata": {
        "id": "f93d18a6-7500-4d2b-8f77-6b80dccede2e"
      },
      "outputs": [],
      "source": [
        "input_size=4\n",
        "hidden_layers=2\n",
        "neurons_in_hidden_layer=5\n",
        "output_size=3\n",
        "learning_rate=0.1\n",
        "\n",
        "model=ANN(input_size,hidden_layers,neurons_in_hidden_layer,output_size,learning_rate)"
      ]
    },
    {
      "cell_type": "code",
      "execution_count": 3,
      "id": "162f535e-affe-422c-978a-917ad10eb431",
      "metadata": {
        "id": "162f535e-affe-422c-978a-917ad10eb431"
      },
      "outputs": [],
      "source": [
        "import pandas as pd\n",
        "import seaborn as sns\n",
        "# df=pd.read_csv('Iris.csv')\n",
        "df=sns.load_dataset('iris')\n",
        "\n",
        "x = df.drop(['species'], axis=1)\n",
        "y=df['species']"
      ]
    },
    {
      "cell_type": "code",
      "execution_count": 4,
      "id": "0b9f4efb-0a06-4d41-b587-9fac4f837541",
      "metadata": {
        "id": "0b9f4efb-0a06-4d41-b587-9fac4f837541",
        "outputId": "9fe587ca-95cf-405c-c618-4be4574cf125"
      },
      "outputs": [
        {
          "name": "stdout",
          "output_type": "stream",
          "text": [
            "WARNING:tensorflow:From d:\\New folder\\envs\\ds_env\\Lib\\site-packages\\keras\\src\\losses.py:2976: The name tf.losses.sparse_softmax_cross_entropy is deprecated. Please use tf.compat.v1.losses.sparse_softmax_cross_entropy instead.\n",
            "\n"
          ]
        }
      ],
      "source": [
        "import numpy as np\n",
        "from sklearn.preprocessing import LabelEncoder\n",
        "label_encoder = LabelEncoder()\n",
        "encoded_labels = label_encoder.fit_transform(y)\n",
        "\n",
        "from sklearn.model_selection import train_test_split\n",
        "x_train,x_test,y_train,y_test=train_test_split(x,encoded_labels,test_size=0.2,random_state=62)\n",
        "\n",
        "from tensorflow.keras.utils import to_categorical\n",
        "\n",
        "labels = np.array(y_train)\n",
        "y_train = to_categorical(labels)\n",
        "y_train=np.array(y_train)"
      ]
    },
    {
      "cell_type": "code",
      "execution_count": 5,
      "id": "737d5d4a-9b12-436f-b441-3ff714f27cfe",
      "metadata": {
        "id": "737d5d4a-9b12-436f-b441-3ff714f27cfe",
        "outputId": "a43d549a-223e-4543-ab72-07fa9327258b"
      },
      "outputs": [],
      "source": [
        "x_train=x_train.values\n",
        "x_train=np.array(x_train)\n",
        "x_train=x_train.T\n",
        "x_test=x_test.values\n"
      ]
    },
    {
      "cell_type": "code",
      "execution_count": 6,
      "id": "c609d4c4-3282-4f0e-b126-7034d9eb59d1",
      "metadata": {
        "id": "c609d4c4-3282-4f0e-b126-7034d9eb59d1",
        "outputId": "1e965c37-4d2a-4a77-a0b4-76661113e83f"
      },
      "outputs": [
        {
          "data": {
            "text/plain": [
              "array([[0., 1., 0.],\n",
              "       [0., 1., 0.],\n",
              "       [0., 0., 1.],\n",
              "       [0., 0., 1.],\n",
              "       [1., 0., 0.],\n",
              "       [1., 0., 0.],\n",
              "       [0., 0., 1.],\n",
              "       [0., 1., 0.],\n",
              "       [0., 0., 1.],\n",
              "       [0., 0., 1.],\n",
              "       [0., 0., 1.],\n",
              "       [0., 0., 1.],\n",
              "       [0., 1., 0.],\n",
              "       [1., 0., 0.],\n",
              "       [0., 0., 1.],\n",
              "       [0., 1., 0.],\n",
              "       [1., 0., 0.],\n",
              "       [0., 0., 1.],\n",
              "       [1., 0., 0.],\n",
              "       [0., 0., 1.],\n",
              "       [1., 0., 0.],\n",
              "       [0., 0., 1.],\n",
              "       [1., 0., 0.],\n",
              "       [0., 1., 0.],\n",
              "       [1., 0., 0.],\n",
              "       [0., 0., 1.],\n",
              "       [1., 0., 0.],\n",
              "       [0., 1., 0.],\n",
              "       [1., 0., 0.],\n",
              "       [1., 0., 0.],\n",
              "       [1., 0., 0.],\n",
              "       [0., 1., 0.],\n",
              "       [0., 1., 0.],\n",
              "       [1., 0., 0.],\n",
              "       [0., 0., 1.],\n",
              "       [0., 1., 0.],\n",
              "       [0., 1., 0.],\n",
              "       [0., 1., 0.],\n",
              "       [0., 0., 1.],\n",
              "       [0., 1., 0.],\n",
              "       [1., 0., 0.],\n",
              "       [0., 0., 1.],\n",
              "       [0., 1., 0.],\n",
              "       [1., 0., 0.],\n",
              "       [0., 0., 1.],\n",
              "       [0., 1., 0.],\n",
              "       [1., 0., 0.],\n",
              "       [0., 1., 0.],\n",
              "       [0., 1., 0.],\n",
              "       [0., 1., 0.],\n",
              "       [0., 0., 1.],\n",
              "       [1., 0., 0.],\n",
              "       [1., 0., 0.],\n",
              "       [0., 1., 0.],\n",
              "       [1., 0., 0.],\n",
              "       [0., 1., 0.],\n",
              "       [1., 0., 0.],\n",
              "       [0., 0., 1.],\n",
              "       [0., 0., 1.],\n",
              "       [0., 1., 0.],\n",
              "       [0., 1., 0.],\n",
              "       [1., 0., 0.],\n",
              "       [0., 0., 1.],\n",
              "       [1., 0., 0.],\n",
              "       [0., 1., 0.],\n",
              "       [0., 1., 0.],\n",
              "       [1., 0., 0.],\n",
              "       [1., 0., 0.],\n",
              "       [0., 1., 0.],\n",
              "       [1., 0., 0.],\n",
              "       [0., 0., 1.],\n",
              "       [0., 1., 0.],\n",
              "       [0., 1., 0.],\n",
              "       [1., 0., 0.],\n",
              "       [0., 0., 1.],\n",
              "       [1., 0., 0.],\n",
              "       [0., 0., 1.],\n",
              "       [0., 0., 1.],\n",
              "       [0., 0., 1.],\n",
              "       [0., 1., 0.],\n",
              "       [1., 0., 0.],\n",
              "       [0., 0., 1.],\n",
              "       [0., 0., 1.],\n",
              "       [0., 0., 1.],\n",
              "       [0., 1., 0.],\n",
              "       [1., 0., 0.],\n",
              "       [0., 0., 1.],\n",
              "       [0., 0., 1.],\n",
              "       [1., 0., 0.],\n",
              "       [0., 1., 0.],\n",
              "       [0., 1., 0.],\n",
              "       [0., 1., 0.],\n",
              "       [0., 1., 0.],\n",
              "       [0., 1., 0.],\n",
              "       [0., 1., 0.],\n",
              "       [0., 0., 1.],\n",
              "       [0., 0., 1.],\n",
              "       [0., 0., 1.],\n",
              "       [1., 0., 0.],\n",
              "       [0., 0., 1.],\n",
              "       [0., 0., 1.],\n",
              "       [0., 1., 0.],\n",
              "       [0., 0., 1.],\n",
              "       [1., 0., 0.],\n",
              "       [1., 0., 0.],\n",
              "       [0., 1., 0.],\n",
              "       [1., 0., 0.],\n",
              "       [0., 0., 1.],\n",
              "       [0., 1., 0.],\n",
              "       [0., 1., 0.],\n",
              "       [0., 1., 0.],\n",
              "       [0., 0., 1.],\n",
              "       [1., 0., 0.],\n",
              "       [0., 1., 0.],\n",
              "       [1., 0., 0.],\n",
              "       [0., 0., 1.],\n",
              "       [0., 0., 1.],\n",
              "       [0., 1., 0.],\n",
              "       [1., 0., 0.],\n",
              "       [1., 0., 0.]], dtype=float32)"
            ]
          },
          "execution_count": 6,
          "metadata": {},
          "output_type": "execute_result"
        }
      ],
      "source": [
        "y_train"
      ]
    },
    {
      "cell_type": "code",
      "execution_count": 7,
      "id": "3408c98a-2b41-460d-a111-5a1908d58bbd",
      "metadata": {
        "id": "3408c98a-2b41-460d-a111-5a1908d58bbd",
        "outputId": "648b4e1f-4ff0-429a-a660-ac2b524e44ca"
      },
      "outputs": [
        {
          "name": "stdout",
          "output_type": "stream",
          "text": [
            "Error at 0 epoch :  54.69318273488335\n",
            "Error at 1000 epoch :  9.275729026419329\n",
            "Error at 2000 epoch :  8.927237701293913\n",
            "Error at 3000 epoch :  7.337749050578393\n",
            "Error at 4000 epoch :  6.507932406373789\n",
            "Error at 5000 epoch :  5.987150752367231\n",
            "Error at 6000 epoch :  5.270808554099769\n",
            "Error at 7000 epoch :  4.60897807765542\n",
            "Error at 8000 epoch :  4.111252309061946\n",
            "Error at 9000 epoch :  3.7465849945334577\n",
            "Error at 10000 epoch :  3.5084512995954737\n",
            "Error at 11000 epoch :  3.32619342437243\n",
            "Error at 12000 epoch :  3.0531297195653977\n",
            "Error at 13000 epoch :  2.84908010533105\n",
            "Error at 14000 epoch :  2.69606776466354\n",
            "Error at 15000 epoch :  2.5717748864139915\n",
            "Error at 16000 epoch :  2.4658404123875055\n",
            "Error at 17000 epoch :  2.3730362373632343\n",
            "Error at 18000 epoch :  2.2903524026831756\n",
            "Error at 19000 epoch :  2.2158445962492284\n",
            "Error at 20000 epoch :  2.148144142860605\n",
            "Error at 21000 epoch :  2.08622841339224\n",
            "Error at 22000 epoch :  2.029301648109636\n",
            "Error at 23000 epoch :  1.976726844058828\n",
            "Error at 24000 epoch :  1.9279834815690022\n",
            "Error at 25000 epoch :  1.8826395018098478\n",
            "Error at 26000 epoch :  1.840331770592027\n",
            "Error at 27000 epoch :  1.8007519302033201\n",
            "Error at 28000 epoch :  1.7636358521638522\n",
            "Error at 29000 epoch :  1.7287555948864588\n",
            "Error at 30000 epoch :  1.6959131590157739\n",
            "Error at 31000 epoch :  1.664935565005961\n",
            "Error at 32000 epoch :  1.6356709227012567\n",
            "Error at 33000 epoch :  1.6079852574570914\n",
            "Error at 34000 epoch :  1.581759921296018\n",
            "Error at 35000 epoch :  1.5568894619363496\n",
            "Error at 36000 epoch :  1.5332798539616779\n",
            "Error at 37000 epoch :  1.5108470190914962\n",
            "Error at 38000 epoch :  1.4895155791564312\n",
            "Error at 39000 epoch :  1.4692177977537604\n",
            "Error at 40000 epoch :  1.4498926758717046\n",
            "Error at 41000 epoch :  1.4314851738649952\n",
            "Error at 42000 epoch :  1.4139455376200807\n",
            "Error at 43000 epoch :  1.3972287109975803\n",
            "Error at 44000 epoch :  1.3812938199796434\n",
            "Error at 45000 epoch :  1.3661037166052428\n",
            "Error at 46000 epoch :  1.3516245729115153\n",
            "Error at 47000 epoch :  1.3378255168337754\n",
            "Error at 48000 epoch :  1.3246783034359106\n",
            "Error at 49000 epoch :  1.3121570160142244\n",
            "Error at 50000 epoch :  1.3002377925786355\n",
            "Error at 51000 epoch :  1.2888985739964447\n",
            "Error at 52000 epoch :  1.278118870699097\n",
            "Error at 53000 epoch :  1.2678795453055975\n",
            "Error at 54000 epoch :  1.258162608809166\n",
            "Error at 55000 epoch :  1.2489510281026246\n",
            "Error at 56000 epoch :  1.2402285425873063\n",
            "Error at 57000 epoch :  1.2319794874314862\n",
            "Error at 58000 epoch :  1.2241886207442025\n",
            "Error at 59000 epoch :  1.2168409515620349\n",
            "Error at 60000 epoch :  1.2099215651846889\n",
            "Error at 61000 epoch :  1.2034154421419165\n",
            "Error at 62000 epoch :  1.1973072670662552\n",
            "Error at 63000 epoch :  1.1915812241241301\n",
            "Error at 64000 epoch :  1.1862207765886188\n",
            "Error at 65000 epoch :  1.1812084297612284\n",
            "Error at 66000 epoch :  1.1765254788860573\n",
            "Error at 67000 epoch :  1.1721517469901146\n",
            "Error at 68000 epoch :  1.1680653216826595\n",
            "Error at 69000 epoch :  1.1642423046489276\n",
            "Error at 70000 epoch :  1.160656592519277\n",
            "Error at 71000 epoch :  1.1572797123949496\n",
            "Error at 72000 epoch :  1.1540807388066652\n",
            "Error at 73000 epoch :  1.1510263203431288\n",
            "Error at 74000 epoch :  1.148080842670705\n",
            "Error at 75000 epoch :  1.1452067493748888\n",
            "Error at 76000 epoch :  1.142365032585371\n",
            "Error at 77000 epoch :  1.139515891936513\n",
            "Error at 78000 epoch :  1.13661954410603\n",
            "Error at 79000 epoch :  1.133637147848874\n",
            "Error at 80000 epoch :  1.1305317936037333\n",
            "Error at 81000 epoch :  1.1272694950923174\n",
            "Error at 82000 epoch :  1.123820115151481\n",
            "Error at 83000 epoch :  1.1201581606497124\n",
            "Error at 84000 epoch :  1.1162633916878133\n",
            "Error at 85000 epoch :  1.1121212068990691\n",
            "Error at 86000 epoch :  1.1077227869873179\n",
            "Error at 87000 epoch :  1.1030649996258917\n",
            "Error at 88000 epoch :  1.0981500876161254\n",
            "Error at 89000 epoch :  1.0929851766422427\n",
            "Error at 90000 epoch :  1.0875816479421272\n",
            "Error at 91000 epoch :  1.0819544246435007\n",
            "Error at 92000 epoch :  1.0761212190829035\n",
            "Error at 93000 epoch :  1.0701017833026978\n",
            "Error at 94000 epoch :  1.0639171974265431\n",
            "Error at 95000 epoch :  1.0575892219994585\n",
            "Error at 96000 epoch :  1.0511397316659665\n",
            "Error at 97000 epoch :  1.0445902395156885\n",
            "Error at 98000 epoch :  1.037961514536417\n",
            "Error at 99000 epoch :  1.0312732891376215\n"
          ]
        }
      ],
      "source": [
        "epochs=100000\n",
        "model.train(x_train,y_train,epochs)"
      ]
    },
    {
      "cell_type": "code",
      "execution_count": 8,
      "id": "8777ae61-b0a7-4d53-b67c-03a098c96921",
      "metadata": {
        "id": "8777ae61-b0a7-4d53-b67c-03a098c96921",
        "outputId": "3b3b1b6c-5231-4be1-98c7-709384a4e09c"
      },
      "outputs": [],
      "source": [
        "# hh=model.forward([[6.7],[3.0],[5.2],[2.3]])\n",
        "# print(hh[-1])"
      ]
    },
    {
      "cell_type": "code",
      "execution_count": 9,
      "id": "99095d2b-561f-4f1c-8db7-ceba28fd3492",
      "metadata": {
        "id": "99095d2b-561f-4f1c-8db7-ceba28fd3492"
      },
      "outputs": [],
      "source": [
        "test_sample=[]\n",
        "for i in x_test:\n",
        "    test_sample.append([[x] for x in i.tolist()])"
      ]
    },
    {
      "cell_type": "code",
      "execution_count": 10,
      "id": "73990906-ddc6-4cfd-9555-68dcd7053572",
      "metadata": {
        "id": "73990906-ddc6-4cfd-9555-68dcd7053572"
      },
      "outputs": [],
      "source": [
        "y_pred=model.predict(test_sample)\n",
        "y_pred = np.hstack([np.argmax(arr, axis=0) for arr in y_pred]).flatten()\n"
      ]
    },
    {
      "cell_type": "code",
      "execution_count": 11,
      "id": "28b030a9-750a-443a-b01d-1ea8d5f367ba",
      "metadata": {
        "id": "28b030a9-750a-443a-b01d-1ea8d5f367ba",
        "outputId": "988d2209-6f12-4d76-f51f-2fc69f24ad0c"
      },
      "outputs": [
        {
          "name": "stdout",
          "output_type": "stream",
          "text": [
            "[2 2 0 0 2 1 2 0 1 1 2 2 0 1 1 1 0 1 0 0 0 0 2 1 2 0 2 0 2 0]\n"
          ]
        }
      ],
      "source": [
        "print(y_test)"
      ]
    },
    {
      "cell_type": "code",
      "execution_count": 12,
      "id": "a2b5513a-8616-44b8-8652-588ca04ab233",
      "metadata": {
        "id": "a2b5513a-8616-44b8-8652-588ca04ab233",
        "outputId": "4fbed0a8-b74f-4781-933d-c38bb7fb940f"
      },
      "outputs": [
        {
          "name": "stdout",
          "output_type": "stream",
          "text": [
            "[2 2 0 0 2 1 2 0 1 1 2 2 0 1 1 1 0 1 0 0 0 0 2 1 2 0 2 0 2 0]\n"
          ]
        }
      ],
      "source": [
        "print(y_pred)"
      ]
    },
    {
      "cell_type": "code",
      "execution_count": 13,
      "id": "275dca7c-9ae8-40e1-9738-6a57b68d5e80",
      "metadata": {
        "id": "275dca7c-9ae8-40e1-9738-6a57b68d5e80",
        "outputId": "83c1882c-7c3d-4b6f-b576-1d12190542e5"
      },
      "outputs": [
        {
          "name": "stdout",
          "output_type": "stream",
          "text": [
            "Accuracy: 1.0\n",
            "Precision: 1.0\n",
            "Recall: 1.0\n",
            "F1-score: 1.0\n"
          ]
        }
      ],
      "source": [
        "from sklearn.metrics import accuracy_score,f1_score,precision_score,recall_score,confusion_matrix\n",
        "accuracy=accuracy_score(y_test,y_pred)\n",
        "precision=precision_score(y_test,y_pred,average='weighted')\n",
        "recall=recall_score(y_test,y_pred,average='weighted')\n",
        "f1score=f1_score(y_test,y_pred,average='weighted')\n",
        "print(\"Accuracy:\", accuracy)\n",
        "print(\"Precision:\", precision)\n",
        "print(\"Recall:\", recall)\n",
        "print(\"F1-score:\", f1score)"
      ]
    },
    {
      "cell_type": "code",
      "execution_count": null,
      "id": "c935f300-1fc4-42b7-8974-1a9d8eb5833f",
      "metadata": {
        "id": "c935f300-1fc4-42b7-8974-1a9d8eb5833f"
      },
      "outputs": [],
      "source": []
    },
    {
      "cell_type": "code",
      "execution_count": null,
      "id": "38e9c796",
      "metadata": {},
      "outputs": [],
      "source": []
    },
    {
      "cell_type": "code",
      "execution_count": null,
      "id": "9a7e7482",
      "metadata": {},
      "outputs": [],
      "source": []
    }
  ],
  "metadata": {
    "colab": {
      "provenance": []
    },
    "kernelspec": {
      "display_name": "Python 3 (ipykernel)",
      "language": "python",
      "name": "python3"
    },
    "language_info": {
      "codemirror_mode": {
        "name": "ipython",
        "version": 3
      },
      "file_extension": ".py",
      "mimetype": "text/x-python",
      "name": "python",
      "nbconvert_exporter": "python",
      "pygments_lexer": "ipython3",
      "version": "3.11.8"
    }
  },
  "nbformat": 4,
  "nbformat_minor": 5
}
