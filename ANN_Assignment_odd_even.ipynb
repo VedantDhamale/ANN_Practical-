{
  "cells": [
    {
      "cell_type": "code",
      "execution_count": 8,
      "id": "398e452c",
      "metadata": {
        "id": "398e452c"
      },
      "outputs": [],
      "source": [
        "import numpy as np"
      ]
    },
    {
      "cell_type": "code",
      "execution_count": 9,
      "id": "4d286a89",
      "metadata": {
        "id": "4d286a89"
      },
      "outputs": [],
      "source": [
        "class Perceptron:\n",
        "    def __init__(self, input_size):\n",
        "\n",
        "        self.weights = np.zeros(input_size)\n",
        "        self.bias = 0\n",
        "\n",
        "    def predict(self, inputs):\n",
        "\n",
        "        summation = np.dot(inputs, self.weights) + self.bias\n",
        "        return 1 if summation >= 0 else 0\n",
        "\n",
        "    def train(self, inputs, labels, learning_rate, epochs):\n",
        "        for epoch in range(epochs):\n",
        "            for input, label in zip(inputs, labels):\n",
        "                prediction = self.predict(input)\n",
        "                self.weights += learning_rate * (label - prediction) * input\n",
        "                self.bias += learning_rate * (label - prediction)"
      ]
    },
    {
      "cell_type": "code",
      "execution_count": 10,
      "id": "a6d9ed34",
      "metadata": {
        "id": "a6d9ed34"
      },
      "outputs": [],
      "source": [
        "def ascii_to_binary(ascii_value):\n",
        "\n",
        "    binary_representation = format(ascii_value, '08b')\n",
        "    return [int(bit) for bit in binary_representation]\n"
      ]
    },
    {
      "cell_type": "code",
      "execution_count": 11,
      "id": "2215b687",
      "metadata": {},
      "outputs": [],
      "source": [
        "training_data = []\n",
        "labels = []\n",
        "\n",
        "for i in range(10):\n",
        "    ascii_value = ord(str(i))\n",
        "    binary_representation = ascii_to_binary(ascii_value)\n",
        "    training_data.append(binary_representation)\n",
        "    labels.append(i % 2)"
      ]
    },
    {
      "cell_type": "code",
      "execution_count": 12,
      "id": "de6a36c4",
      "metadata": {
        "id": "de6a36c4"
      },
      "outputs": [],
      "source": [
        "perceptron = Perceptron(input_size=8)\n"
      ]
    },
    {
      "cell_type": "code",
      "execution_count": 13,
      "id": "ef41cdb4",
      "metadata": {
        "id": "ef41cdb4"
      },
      "outputs": [],
      "source": [
        "learning_rate = 0.1\n",
        "epochs = 1000\n",
        "perceptron.train(np.array(training_data), np.array(labels), learning_rate, epochs)\n"
      ]
    },
    {
      "cell_type": "code",
      "execution_count": 14,
      "id": "4d8508b5",
      "metadata": {
        "id": "4d8508b5"
      },
      "outputs": [],
      "source": [
        "def ip():\n",
        "    while True:\n",
        "        test_number=int(input(\"Enter Number:\"))\n",
        "        test_number2=test_number%10\n",
        "        test_input = np.array(ascii_to_binary(ord(str(test_number2))))\n",
        "        prediction = perceptron.predict(test_input)\n",
        "        print(f\"The perceptron predicts {test_number} is {'odd' if prediction == 1 else 'even'}.\")"
      ]
    },
    {
      "cell_type": "code",
      "execution_count": 15,
      "id": "ec70a9df",
      "metadata": {
        "id": "ec70a9df"
      },
      "outputs": [
        {
          "name": "stdout",
          "output_type": "stream",
          "text": [
            "The perceptron predicts 2 is even.\n",
            "The perceptron predicts 1 is odd.\n",
            "The perceptron predicts 5 is odd.\n",
            "The perceptron predicts 7 is odd.\n",
            "The perceptron predicts 12 is even.\n",
            "The perceptron predicts 23 is odd.\n"
          ]
        },
        {
          "ename": "ValueError",
          "evalue": "invalid literal for int() with base 10: ''",
          "output_type": "error",
          "traceback": [
            "\u001b[1;31m---------------------------------------------------------------------------\u001b[0m",
            "\u001b[1;31mValueError\u001b[0m                                Traceback (most recent call last)",
            "Cell \u001b[1;32mIn[15], line 1\u001b[0m\n\u001b[1;32m----> 1\u001b[0m ip()\n",
            "Cell \u001b[1;32mIn[14], line 3\u001b[0m, in \u001b[0;36mip\u001b[1;34m()\u001b[0m\n\u001b[0;32m      1\u001b[0m \u001b[38;5;28;01mdef\u001b[39;00m \u001b[38;5;21mip\u001b[39m():\n\u001b[0;32m      2\u001b[0m     \u001b[38;5;28;01mwhile\u001b[39;00m \u001b[38;5;28;01mTrue\u001b[39;00m:\n\u001b[1;32m----> 3\u001b[0m         test_number\u001b[38;5;241m=\u001b[39m\u001b[38;5;28mint\u001b[39m(\u001b[38;5;28minput\u001b[39m(\u001b[38;5;124m\"\u001b[39m\u001b[38;5;124mEnter Number:\u001b[39m\u001b[38;5;124m\"\u001b[39m))\n\u001b[0;32m      4\u001b[0m         test_number2\u001b[38;5;241m=\u001b[39mtest_number\u001b[38;5;241m%\u001b[39m\u001b[38;5;241m10\u001b[39m\n\u001b[0;32m      5\u001b[0m         test_input \u001b[38;5;241m=\u001b[39m np\u001b[38;5;241m.\u001b[39marray(ascii_to_binary(\u001b[38;5;28mord\u001b[39m(\u001b[38;5;28mstr\u001b[39m(test_number2))))\n",
            "\u001b[1;31mValueError\u001b[0m: invalid literal for int() with base 10: ''"
          ]
        }
      ],
      "source": [
        "ip()"
      ]
    },
    {
      "cell_type": "code",
      "execution_count": null,
      "id": "afa296d8",
      "metadata": {},
      "outputs": [],
      "source": []
    },
    {
      "cell_type": "code",
      "execution_count": null,
      "id": "c3449ca8",
      "metadata": {},
      "outputs": [],
      "source": []
    }
  ],
  "metadata": {
    "colab": {
      "provenance": []
    },
    "kernelspec": {
      "display_name": "Python 3 (ipykernel)",
      "language": "python",
      "name": "python3"
    },
    "language_info": {
      "codemirror_mode": {
        "name": "ipython",
        "version": 3
      },
      "file_extension": ".py",
      "mimetype": "text/x-python",
      "name": "python",
      "nbconvert_exporter": "python",
      "pygments_lexer": "ipython3",
      "version": "3.11.8"
    }
  },
  "nbformat": 4,
  "nbformat_minor": 5
}
