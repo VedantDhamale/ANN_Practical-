{
 "cells": [
  {
   "cell_type": "markdown",
   "id": "17c5d17d",
   "metadata": {},
   "source": [
    "#"
   ]
  },
  {
   "cell_type": "code",
   "execution_count": null,
   "id": "9682d44b",
   "metadata": {},
   "outputs": [],
   "source": []
  },
  {
   "cell_type": "code",
   "execution_count": 4,
   "id": "40fd8996-3829-4187-84cc-8c7f65b391a1",
   "metadata": {},
   "outputs": [],
   "source": [
    "import numpy as np"
   ]
  },
  {
   "cell_type": "code",
   "execution_count": 5,
   "id": "46a02781-b952-4282-b382-323d4066703a",
   "metadata": {},
   "outputs": [],
   "source": [
    "class HopfieldNetwork:\n",
    "    def __init__(self, num_neurons):\n",
    "        self.num_neurons = num_neurons\n",
    "        self.weights = np.zeros((num_neurons, num_neurons))\n",
    "\n",
    "    def bi_sigmoid(self,x):\n",
    "        return (1-np.exp(-x))/(1+np.exp(-x))\n",
    "\n",
    "    def train(self, vectors):\n",
    "        # num_vectors = len(vectors)\n",
    "        for vector in vectors:\n",
    "            vector = np.reshape(vector, (self.num_neurons, 1))\n",
    "            self.weights += np.dot(vector, vector.T)\n",
    "        print(\"weights : \",self.weights)\n",
    "        print()\n",
    "        \n",
    "    def recall(self, input_vector):\n",
    "        output=np.dot(self.weights,input_vector)\n",
    "        output=self.bi_sigmoid(output)\n",
    "        output=np.sign(output)\n",
    "        return output"
   ]
  },
  {
   "cell_type": "code",
   "execution_count": 6,
   "id": "85ba48dc-363e-4be7-9cd6-c6cbd1fa06b4",
   "metadata": {},
   "outputs": [
    {
     "name": "stdout",
     "output_type": "stream",
     "text": [
      "weights :  [[ 4.  0.  2.  2.  2. -2. -4. -2.]\n",
      " [ 0.  4.  2.  2. -2. -2.  0. -2.]\n",
      " [ 2.  2.  4.  0.  0.  0. -2.  0.]\n",
      " [ 2.  2.  0.  4.  0. -4. -2. -4.]\n",
      " [ 2. -2.  0.  0.  4.  0. -2.  0.]\n",
      " [-2. -2.  0. -4.  0.  4.  2.  4.]\n",
      " [-4.  0. -2. -2. -2.  2.  4.  2.]\n",
      " [-2. -2.  0. -4.  0.  4.  2.  4.]]\n",
      "\n",
      "Input: [-1 -1 -1 -1  1  0  1  0]\n",
      "Output: [-1. -1. -1. -1.  1.  1.  1.  1.]\n",
      "\n",
      "Input: [ 0  1  1  1  1 -1 -1 -1]\n",
      "Output: [ 1.  1.  1.  1.  1. -1. -1. -1.]\n",
      "\n",
      "Input: [ 1 -1  0 -1  1  1 -1  1]\n",
      "Output: [ 1. -1.  1. -1.  1.  1. -1.  1.]\n",
      "\n",
      "Input: [ 0  1  1 -1 -1  0  1  1]\n",
      "Output: [-1.  1.  1. -1. -1.  1.  1.  1.]\n",
      "\n"
     ]
    }
   ],
   "source": [
    "network = HopfieldNetwork(8)\n",
    "\n",
    "vectors = np.array([[-1, -1, -1, -1, 1, 1, 1, 1],\n",
    "                    [1, 1, 1, 1, 1, -1, -1, -1],\n",
    "                    [1, -1, 1, -1, 1, 1, -1, 1],\n",
    "                    [-1, 1, 1, -1, -1, 1, 1, 1]])\n",
    "    \n",
    "\n",
    "network.train(vectors)\n",
    "\n",
    "vectors = np.array([[-1, -1, -1, -1, 1, 0, 1, 0],\n",
    "                    [0, 1, 1, 1, 1, -1, -1, -1],\n",
    "                    [1, -1, 0, -1, 1, 1, -1, 1],\n",
    "                    [0, 1, 1, -1, -1, 0, 1, 1]])\n",
    "\n",
    "for vector in vectors:\n",
    "    output = network.recall(vector)\n",
    "    print(\"Input:\", vector)\n",
    "    print(\"Output:\", output)\n",
    "    print()\n"
   ]
  },
  {
   "cell_type": "code",
   "execution_count": null,
   "id": "0659d13e-68eb-46f5-99ad-fb142fecaf96",
   "metadata": {},
   "outputs": [],
   "source": [
    "# 1.Initialization: Start with setting neuron states randomly or according to input patterns.\n",
    "# 2.Compute Energy: Calculate network energy based on neuron states and connection weights.\n",
    "# 3.Update Neurons: Neurons update states simultaneously based on input and connection weights.\n",
    "    # if the total input to a neuron is positive, \n",
    "    # it becomes \"on\" (+1); if negative, it becomes \"off\" (-1).\n",
    "# 4.Repeat: Iterate steps 2 and 3 until the network stabilizes or a set number of iterations is reached.\n",
    "# 5.Pattern Retrieval: Network converges to nearest stored pattern when given partial or noisy input.\n",
    "# 6.Stable States: Stable states represent stored patterns or solutions to optimization problems."
   ]
  },
  {
   "cell_type": "code",
   "execution_count": 7,
   "id": "e4e0f26c",
   "metadata": {},
   "outputs": [],
   "source": [
    "# primarily used for associative memory tasks and optimization problems.\n",
    "# They help remember things and find the best solutions to problems."
   ]
  },
  {
   "cell_type": "code",
   "execution_count": null,
   "id": "03e6139b",
   "metadata": {},
   "outputs": [],
   "source": []
  }
 ],
 "metadata": {
  "kernelspec": {
   "display_name": "Python 3 (ipykernel)",
   "language": "python",
   "name": "python3"
  },
  "language_info": {
   "codemirror_mode": {
    "name": "ipython",
    "version": 3
   },
   "file_extension": ".py",
   "mimetype": "text/x-python",
   "name": "python",
   "nbconvert_exporter": "python",
   "pygments_lexer": "ipython3",
   "version": "3.11.8"
  }
 },
 "nbformat": 4,
 "nbformat_minor": 5
}
