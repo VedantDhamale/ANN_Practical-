{
 "cells": [
  {
   "cell_type": "code",
   "execution_count": 2,
   "id": "e16f5d73-02df-48b9-8a1b-2161a8a6325f",
   "metadata": {},
   "outputs": [],
   "source": [
    "import numpy as np\n",
    "\n",
    "class Perceptron:\n",
    "    def __init__(self,input_size):\n",
    "        self.weights=np.zeros(input_size)\n",
    "        self.bias=0\n",
    "  \n",
    "    def predict(self, inputs):\n",
    "\n",
    "        summation = np.dot(inputs, self.weights.T) + self.bias\n",
    "        return 1 if summation >= 0 else 0\n",
    "\n",
    "    def train(self, inputs, labels,learning_rate, epochs):\n",
    "        for epoch in range(epochs):\n",
    "            for input, label in zip(inputs, labels):\n",
    "                prediction = self.predict(input)\n",
    "                self.weights +=learning_rate * (label - prediction) * input\n",
    "                self.bias +=learning_rate * (label - prediction)"
   ]
  },
  {
   "cell_type": "code",
   "execution_count": 3,
   "id": "4709d849-141c-4f30-a34d-bd8ae819c210",
   "metadata": {},
   "outputs": [],
   "source": [
    "inputs=np.array([[0,0],[0,1],[1,0],[1,1]])\n",
    "labels=np.array([0,0,0,1])"
   ]
  },
  {
   "cell_type": "code",
   "execution_count": 4,
   "id": "6185f0f8-fbb3-487e-a044-a135bb6fba2f",
   "metadata": {},
   "outputs": [],
   "source": [
    "model=Perceptron(2)"
   ]
  },
  {
   "cell_type": "code",
   "execution_count": 5,
   "id": "46cb9c8c-a67c-4734-a66a-8709fcb9d71f",
   "metadata": {},
   "outputs": [],
   "source": [
    "model.train(inputs,labels,0.01,10000)"
   ]
  },
  {
   "cell_type": "code",
   "execution_count": 6,
   "id": "219134ea-d04c-4f33-8f34-a5cf612186ff",
   "metadata": {},
   "outputs": [
    {
     "name": "stdout",
     "output_type": "stream",
     "text": [
      "x1   x2   y\n",
      "\n",
      "0    0    0\n",
      "0    1    0\n",
      "1    0    0\n",
      "1    1    1\n"
     ]
    }
   ],
   "source": [
    "print(\"x1   x2   y\")\n",
    "print()\n",
    "for i in range(len(inputs)):\n",
    "    print(inputs[i][0],\"  \",inputs[i][1],\"  \",model.predict(inputs[i]))"
   ]
  },
  {
   "cell_type": "code",
   "execution_count": 7,
   "id": "1b4161c3-f36f-451f-b496-12b8f19d6ff2",
   "metadata": {},
   "outputs": [
    {
     "data": {
      "text/plain": [
       "array([0.02, 0.01])"
      ]
     },
     "execution_count": 7,
     "metadata": {},
     "output_type": "execute_result"
    }
   ],
   "source": [
    "weights=model.weights\n",
    "weights"
   ]
  },
  {
   "cell_type": "code",
   "execution_count": 8,
   "id": "195559e3-0078-4162-9813-118a7ed15b43",
   "metadata": {},
   "outputs": [],
   "source": [
    "w1=weights[0]\n",
    "w2=weights[1]"
   ]
  },
  {
   "cell_type": "code",
   "execution_count": 9,
   "id": "911e72e3-07d1-4603-a088-a0956f92dc97",
   "metadata": {},
   "outputs": [
    {
     "data": {
      "text/plain": [
       "-0.03"
      ]
     },
     "execution_count": 9,
     "metadata": {},
     "output_type": "execute_result"
    }
   ],
   "source": [
    "b=model.bias\n",
    "b"
   ]
  },
  {
   "cell_type": "markdown",
   "id": "e758dba8-992b-4b7f-92c9-de0b552974f4",
   "metadata": {},
   "source": [
    "# Equation \n",
    "\n",
    "# Y = mx + c\n",
    "\n",
    "#### where, m = - w1/w2\n",
    "####        c = -b/w2"
   ]
  },
  {
   "cell_type": "code",
   "execution_count": 10,
   "id": "3de44745-59db-44a7-b240-b9fb82d9a289",
   "metadata": {},
   "outputs": [],
   "source": [
    "m=-(w1/w2)\n",
    "c=-b/w2"
   ]
  },
  {
   "cell_type": "code",
   "execution_count": 11,
   "id": "e14d2225-057a-43d7-a1a4-c35bb2ad479e",
   "metadata": {},
   "outputs": [],
   "source": [
    "x_intercepts=np.linspace(-2,2,5)\n",
    "y_intercepts=[]\n",
    "for x in x_intercepts:\n",
    "    y_intercepts.append((m*x)+c)\n",
    "y_intercepts=np.array(y_intercepts)"
   ]
  },
  {
   "cell_type": "code",
   "execution_count": 12,
   "id": "e3156370-98bc-432e-ac51-b7bc324408b2",
   "metadata": {},
   "outputs": [
    {
     "data": {
      "text/plain": [
       "array([-2., -1.,  0.,  1.,  2.])"
      ]
     },
     "execution_count": 12,
     "metadata": {},
     "output_type": "execute_result"
    }
   ],
   "source": [
    "x_intercepts"
   ]
  },
  {
   "cell_type": "code",
   "execution_count": 13,
   "id": "fc92b50d-3e23-4240-9902-c709e4a38d01",
   "metadata": {},
   "outputs": [],
   "source": [
    "y_intercepts/=1.5"
   ]
  },
  {
   "cell_type": "code",
   "execution_count": 15,
   "id": "5df1fdcf-945d-4b93-8914-5af55eaf9f3a",
   "metadata": {},
   "outputs": [
    {
     "name": "stdout",
     "output_type": "stream",
     "text": [
      "[0, 0, 1, 1]\n",
      "[0, 1, 0, 1]\n"
     ]
    },
    {
     "data": {
      "image/png": "[encoded data removed]",
      "text/plain": [
       "<Figure size 640x480 with 1 Axes>"
      ]
     },
     "metadata": {},
     "output_type": "display_data"
    }
   ],
   "source": [
    "import matplotlib.pyplot as pt\n",
    "\n",
    "x_points=[x[0] for x in inputs]\n",
    "y_points=[x[1] for x in inputs]\n",
    "pt.plot(x_intercepts,y_intercepts)\n",
    "pt.scatter(x_points,y_points)\n",
    "print(x_points)\n",
    "print(y_points)"
   ]
  },
  {
   "cell_type": "code",
   "execution_count": null,
   "id": "0457519a-9458-4bbc-9c8e-af0a8c35ea0b",
   "metadata": {},
   "outputs": [],
   "source": []
  },
  {
   "cell_type": "code",
   "execution_count": null,
   "id": "a1f222f7-62df-47eb-9546-0ed423d7775e",
   "metadata": {},
   "outputs": [],
   "source": []
  }
 ],
 "metadata": {
  "kernelspec": {
   "display_name": "Python 3 (ipykernel)",
   "language": "python",
   "name": "python3"
  },
  "language_info": {
   "codemirror_mode": {
    "name": "ipython",
    "version": 3
   },
   "file_extension": ".py",
   "mimetype": "text/x-python",
   "name": "python",
   "nbconvert_exporter": "python",
   "pygments_lexer": "ipython3",
   "version": "3.11.8"
  }
 },
 "nbformat": 4,
 "nbformat_minor": 5
}
