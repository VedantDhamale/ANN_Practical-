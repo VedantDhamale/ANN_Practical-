{
 "cells": [
  {
   "cell_type": "code",
   "execution_count": 1,
   "id": "676f4ea7-ee37-43d4-af12-b8189f9a408c",
   "metadata": {},
   "outputs": [],
   "source": [
    "import numpy as np\n",
    "\n",
    "class ANN:\n",
    "    def __init__(self,input_size,hidden_layers,hidden_neurons,output_size,learning_rate):\n",
    "        self.weights=[]\n",
    "        self.bias=[]\n",
    "        self.hidden_layers=hidden_layers\n",
    "        self.learning_rate=learning_rate;\n",
    "        \n",
    "        for i in range(hidden_layers+1):\n",
    "            if i==0:\n",
    "                self.weights.append(np.random.randn(hidden_neurons,input_size))\n",
    "                self.bias.append(np.full((hidden_neurons,1),1))\n",
    "            elif i==hidden_layers:\n",
    "                self.weights.append(np.random.randn(output_size,hidden_neurons))\n",
    "                self.bias.append(np.full((output_size,1),1))\n",
    "            else:\n",
    "                self.weights.append(np.random.randn(hidden_neurons,hidden_neurons))\n",
    "                self.bias.append(np.full((hidden_neurons,1),1))\n",
    "                \n",
    "    def sigmoid(self, x):\n",
    "        return 1 / (1 + np.exp(-x))\n",
    "\n",
    "    def first_order_sigmoid(self, x):\n",
    "        return self.sigmoid(x) * (1 - self.sigmoid(x))\n",
    "            \n",
    "    def forward(self,x):\n",
    "        activations=[]\n",
    "        activations.append(x)\n",
    "        for i in range(self.hidden_layers+1):\n",
    "            x=np.dot(self.weights[i],activations[i])+self.bias[i]\n",
    "            activations.append(self.sigmoid(x))\n",
    "        return activations\n",
    "\n",
    "    def backward(self,activations,di,m):\n",
    "        delta=(activations[-1]-di.T) * self.first_order_sigmoid(np.dot(self.weights[-1],activations[-2])+self.bias[-1])\n",
    "        for i in range(self.hidden_layers,-1,-1):\n",
    "            if i==self.hidden_layers:\n",
    "                prev=np.array(self.weights[i])\n",
    "                self.weights[i]=self.weights[i]-(self.learning_rate/m) * np.dot(delta,activations[i].T)\n",
    "                self.bias[i]=self.bias[i]-(self.learning_rate/m) * np.sum(delta,axis=1,keepdims=True)\n",
    "            else:\n",
    "                delta=np.dot(prev.T, delta) * self.first_order_sigmoid(np.dot(self.weights[i], activations[i])+self.bias[i])\n",
    "                prev=np.array(self.weights[i])\n",
    "                self.weights[i]=self.weights[i]-(self.learning_rate/m) * np.dot(delta,activations[i].T)\n",
    "                self.bias[i]=self.bias[i]-(self.learning_rate/m) * np.sum(delta,axis=1,keepdims=True)\n",
    "            \n",
    "    def train(self,x,y,epochs):\n",
    "        for i in range(epochs):\n",
    "            activations=self.forward(x)\n",
    "            m=x.shape[1]\n",
    "            self.backward(activations,y,m)\n",
    "            if(i%100==0):\n",
    "                print(\"Error at %d epoch : \"%(i),np.sum(activations[-1]-y.T))     "
   ]
  },
  {
   "cell_type": "code",
   "execution_count": 2,
   "id": "f93d18a6-7500-4d2b-8f77-6b80dccede2e",
   "metadata": {},
   "outputs": [],
   "source": [
    "input_size=2\n",
    "hidden_layers=3\n",
    "neurons_in_hidden_layer=4\n",
    "output_size=2\n",
    "learning_rate=0.1\n",
    "\n",
    "model=ANN(input_size,hidden_layers,neurons_in_hidden_layer,output_size,learning_rate)"
   ]
  },
  {
   "cell_type": "code",
   "execution_count": 7,
   "id": "419dd4f7-9711-43c4-b5ba-d6c90965c5e2",
   "metadata": {},
   "outputs": [
    {
     "name": "stdout",
     "output_type": "stream",
     "text": [
      "[[1 0]\n",
      " [0 1]\n",
      " [0 1]\n",
      " [1 0]]\n"
     ]
    }
   ],
   "source": [
    "x=np.array([[0,0],[0,1],[1,0],[1,1]])\n",
    "x=x.T\n",
    "y=np.array([[1,0],[0,1],[0,1],[1,0]])\n",
    "x"
   ]
  },
  {
   "cell_type": "code",
   "execution_count": 4,
   "id": "3408c98a-2b41-460d-a111-5a1908d58bbd",
   "metadata": {},
   "outputs": [
    {
     "name": "stdout",
     "output_type": "stream",
     "text": [
      "Error at 0 epoch :  2.031306561553779\n",
      "Error at 100 epoch :  0.8183523286662812\n",
      "Error at 200 epoch :  0.26079127768342003\n",
      "Error at 300 epoch :  0.08190501110571458\n",
      "Error at 400 epoch :  0.026257126077895043\n",
      "Error at 500 epoch :  0.008652841933113664\n",
      "Error at 600 epoch :  0.0029786290510627755\n",
      "Error at 700 epoch :  0.0011228890453249818\n",
      "Error at 800 epoch :  0.0005083041739009087\n",
      "Error at 900 epoch :  0.0003013101585258027\n",
      "Error at 1000 epoch :  0.0002290706013359789\n",
      "Error at 1100 epoch :  0.00020159638070316177\n",
      "Error at 1200 epoch :  0.00018906134431428967\n",
      "Error at 1300 epoch :  0.00018154791006452786\n",
      "Error at 1400 epoch :  0.0001757505423027883\n",
      "Error at 1500 epoch :  0.00017056506648249758\n",
      "Error at 1600 epoch :  0.0001656214915674581\n",
      "Error at 1700 epoch :  0.0001607950252084378\n",
      "Error at 1800 epoch :  0.00015604287066373068\n",
      "Error at 1900 epoch :  0.00015134969387359254\n",
      "Error at 2000 epoch :  0.00014670938354377494\n",
      "Error at 2100 epoch :  0.00014211894448312723\n",
      "Error at 2200 epoch :  0.0001375764509127797\n",
      "Error at 2300 epoch :  0.00013308035942605212\n",
      "Error at 2400 epoch :  0.00012862927767942622\n",
      "Error at 2500 epoch :  0.00012422188595340167\n",
      "Error at 2600 epoch :  0.00011985691005861332\n",
      "Error at 2700 epoch :  0.00011553311151374368\n",
      "Error at 2800 epoch :  0.0001112492835502743\n",
      "Error at 2900 epoch :  0.00010700424911080919\n",
      "Error at 3000 epoch :  0.00010279685953462625\n",
      "Error at 3100 epoch :  9.862599350096701e-05\n",
      "Error at 3200 epoch :  9.44905560770204e-05\n",
      "Error at 3300 epoch :  9.038947783407414e-05\n",
      "Error at 3400 epoch :  8.632171398820221e-05\n",
      "Error at 3500 epoch :  8.228624358463943e-05\n",
      "Error at 3600 epoch :  7.828206870652554e-05\n",
      "Error at 3700 epoch :  7.430821371690044e-05\n",
      "Error at 3800 epoch :  7.036372451979522e-05\n",
      "Error at 3900 epoch :  6.644766784869027e-05\n",
      "Error at 4000 epoch :  6.255913058300644e-05\n",
      "Error at 4100 epoch :  5.869721908591252e-05\n",
      "Error at 4200 epoch :  5.486105855723178e-05\n",
      "Error at 4300 epoch :  5.104979242259722e-05\n",
      "Error at 4400 epoch :  4.726258172743636e-05\n",
      "Error at 4500 epoch :  4.34986045628194e-05\n",
      "Error at 4600 epoch :  3.9757055501687955e-05\n",
      "Error at 4700 epoch :  3.60371450564001e-05\n",
      "Error at 4800 epoch :  3.233809915847985e-05\n",
      "Error at 4900 epoch :  2.865915864297408e-05\n",
      "Error at 5000 epoch :  2.4999578762230357e-05\n",
      "Error at 5100 epoch :  2.1358628707890404e-05\n",
      "Error at 5200 epoch :  1.7735591146761376e-05\n",
      "Error at 5300 epoch :  1.4129761777781358e-05\n",
      "Error at 5400 epoch :  1.0540448891982468e-05\n",
      "Error at 5500 epoch :  6.966972959099316e-06\n",
      "Error at 5600 epoch :  3.4086662117904787e-06\n",
      "Error at 5700 epoch :  -1.351277438277343e-07\n",
      "Error at 5800 epoch :  -3.6650543169258754e-06\n",
      "Error at 5900 epoch :  -7.181748302498292e-06\n",
      "Error at 6000 epoch :  -1.0685834242740722e-05\n",
      "Error at 6100 epoch :  -1.4177926784708639e-05\n",
      "Error at 6200 epoch :  -1.7658631010442072e-05\n",
      "Error at 6300 epoch :  -2.1128542783688253e-05\n",
      "Error at 6400 epoch :  -2.4588249062651446e-05\n",
      "Error at 6500 epoch :  -2.8038328216517527e-05\n",
      "Error at 6600 epoch :  -3.147935033170901e-05\n",
      "Error at 6700 epoch :  -3.491187751303304e-05\n",
      "Error at 6800 epoch :  -3.833646416179226e-05\n",
      "Error at 6900 epoch :  -4.1753657273879696e-05\n",
      "Error at 7000 epoch :  -4.516399669940441e-05\n",
      "Error at 7100 epoch :  -4.85680154200252e-05\n",
      "Error at 7200 epoch :  -5.196623980213699e-05\n",
      "Error at 7300 epoch :  -5.535918986021571e-05\n",
      "Error at 7400 epoch :  -5.8747379496904006e-05\n",
      "Error at 7500 epoch :  -6.213131674881467e-05\n",
      "Error at 7600 epoch :  -6.551150402434036e-05\n",
      "Error at 7700 epoch :  -6.888843832741909e-05\n",
      "Error at 7800 epoch :  -7.226261149168023e-05\n",
      "Error at 7900 epoch :  -7.563451039510616e-05\n",
      "Error at 8000 epoch :  -7.900461717796903e-05\n",
      "Error at 8100 epoch :  -8.237340945299598e-05\n",
      "Error at 8200 epoch :  -8.574136050970571e-05\n",
      "Error at 8300 epoch :  -8.910893951713517e-05\n",
      "Error at 8400 epoch :  -9.24766117256226e-05\n",
      "Error at 8500 epoch :  -9.584483865116011e-05\n",
      "Error at 8600 epoch :  -9.921407827512274e-05\n",
      "Error at 8700 epoch :  -0.00010258478522168213\n",
      "Error at 8800 epoch :  -0.00010595741094721056\n",
      "Error at 8900 epoch :  -0.00010933240391330923\n",
      "Error at 9000 epoch :  -0.0001127102097664423\n",
      "Error at 9100 epoch :  -0.00011609127151052112\n",
      "Error at 9200 epoch :  -0.00011947602967327109\n",
      "Error at 9300 epoch :  -0.00012286492247581826\n",
      "Error at 9400 epoch :  -0.00012625838599572559\n",
      "Error at 9500 epoch :  -0.00012965685432797525\n",
      "Error at 9600 epoch :  -0.00013306075974356402\n",
      "Error at 9700 epoch :  -0.00013647053284721045\n",
      "Error at 9800 epoch :  -0.00013988660272967746\n",
      "Error at 9900 epoch :  -0.00014330939712031698\n"
     ]
    }
   ],
   "source": [
    "epochs=10000\n",
    "model.train(x,y,epochs)"
   ]
  },
  {
   "cell_type": "code",
   "execution_count": 5,
   "id": "8777ae61-b0a7-4d53-b67c-03a098c96921",
   "metadata": {},
   "outputs": [
    {
     "name": "stdout",
     "output_type": "stream",
     "text": [
      "[[0.49791286]\n",
      " [0.49563672]]\n"
     ]
    }
   ],
   "source": [
    "hh=model.forward([[0],[1]])\n",
    "print(hh[-1])"
   ]
  },
  {
   "cell_type": "code",
   "execution_count": 6,
   "id": "894bae4b-d2b3-49a3-91c7-79e856ac80cd",
   "metadata": {},
   "outputs": [
    {
     "name": "stdout",
     "output_type": "stream",
     "text": [
      "OUTPUT :  [0]\n",
      "\n",
      "\n",
      "OUTPUT :  [1]\n",
      "\n",
      "\n",
      "OUTPUT :  [0]\n",
      "\n",
      "\n",
      "OUTPUT :  [1]\n",
      "\n",
      "\n",
      "OUTPUT :  [1]\n",
      "\n",
      "\n"
     ]
    }
   ],
   "source": [
    "while(True):\n",
    "    x1=int(input(\"Enter INPUT 1 : \"))\n",
    "    if(x1>1):\n",
    "        break\n",
    "    x2=int(input(\"Enter INPUT 2 : \"))\n",
    "    prediction=model.forward([[x1],[x2]])\n",
    "    print(\"OUTPUT : \",np.argmax(prediction[-1],axis=0))\n",
    "    print('\\n')"
   ]
  },
  {
   "cell_type": "code",
   "execution_count": null,
   "id": "808b3a6d-538e-45db-a229-5bf46fa091db",
   "metadata": {},
   "outputs": [],
   "source": []
  },
  {
   "cell_type": "code",
   "execution_count": null,
   "id": "fc35956d-1fbb-4019-872d-60662c415f06",
   "metadata": {},
   "outputs": [],
   "source": []
  }
 ],
 "metadata": {
  "kernelspec": {
   "display_name": "Python 3 (ipykernel)",
   "language": "python",
   "name": "python3"
  },
  "language_info": {
   "codemirror_mode": {
    "name": "ipython",
    "version": 3
   },
   "file_extension": ".py",
   "mimetype": "text/x-python",
   "name": "python",
   "nbconvert_exporter": "python",
   "pygments_lexer": "ipython3",
   "version": "3.11.8"
  }
 },
 "nbformat": 4,
 "nbformat_minor": 5
}
