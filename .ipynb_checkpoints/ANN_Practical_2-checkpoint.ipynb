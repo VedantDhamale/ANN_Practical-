{
 "cells": [
  {
   "cell_type": "markdown",
   "metadata": {},
   "source": [
    "#### Name: Vedant Sanjay Dhamale\n",
    "#### Enroll. No: 2337032\n",
    "#### Batch: B"
   ]
  },
  {
   "cell_type": "code",
   "execution_count": 19,
   "metadata": {
    "id": "EP9ASelcbrI2"
   },
   "outputs": [],
   "source": [
    "import numpy as np\n",
    "\n",
    "x1=[0,0,1,1]\n",
    "x2=[0,1,0,1]\n",
    "w=[1,1,1,1]\n",
    "\n",
    "t=0.8"
   ]
  },
  {
   "cell_type": "code",
   "execution_count": 20,
   "metadata": {
    "colab": {
     "base_uri": "https://localhost:8080/"
    },
    "id": "ukJs24cdbqMP",
    "outputId": "0b6137df-75ea-4991-c714-d6775a9346dd"
   },
   "outputs": [
    {
     "name": "stdout",
     "output_type": "stream",
     "text": [
      "Result of ANDNOT Gate:\n",
      "\n",
      "\n",
      "Activation Value:  0.5\n",
      "Result: \n",
      "1\n",
      "\n",
      "\n",
      "Activation Value:  0.7310585786300049\n",
      "Result: \n",
      "1\n",
      "\n",
      "\n",
      "Activation Value:  0.7310585786300049\n",
      "Result: \n",
      "1\n",
      "\n",
      "\n",
      "Activation Value:  0.8807970779778823\n",
      "Result: \n",
      "0\n"
     ]
    }
   ],
   "source": [
    "def sigmoid_fun(x):\n",
    "    sigmoid_val=1/(1+np.exp(-x))\n",
    "    print(\"\\n\")\n",
    "    print(\"Activation Value: \",sigmoid_val)\n",
    "    return sigmoid_val\n",
    "\n",
    "def ANGate(x):\n",
    "    if x==1:\n",
    "        return 0\n",
    "    else:\n",
    "        return 1\n",
    "\n",
    "print(\"Result of ANDNOT Gate:\")\n",
    "for i in range(len(x1)):\n",
    "    sum=x1[i]*w[i]+x2[i]*w[i]\n",
    "\n",
    "    if sigmoid_fun(sum)>=t:\n",
    "        print(\"Result: \")\n",
    "        out=1\n",
    "    else:\n",
    "        print(\"Result: \")\n",
    "        out=0\n",
    "    print(ANGate(out))\n",
    "\n",
    "\n"
   ]
  },
  {
   "cell_type": "code",
   "execution_count": null,
   "metadata": {},
   "outputs": [],
   "source": []
  }
 ],
 "metadata": {
  "colab": {
   "provenance": []
  },
  "kernelspec": {
   "display_name": "Python 3 (ipykernel)",
   "language": "python",
   "name": "python3"
  },
  "language_info": {
   "codemirror_mode": {
    "name": "ipython",
    "version": 3
   },
   "file_extension": ".py",
   "mimetype": "text/x-python",
   "name": "python",
   "nbconvert_exporter": "python",
   "pygments_lexer": "ipython3",
   "version": "3.11.8"
  }
 },
 "nbformat": 4,
 "nbformat_minor": 4
}
